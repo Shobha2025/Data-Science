{
 "cells": [
  {
   "cell_type": "code",
   "execution_count": 1,
   "id": "1d8c8218-5331-4b6f-b31d-409e9772a3bf",
   "metadata": {},
   "outputs": [
    {
     "name": "stdout",
     "output_type": "stream",
     "text": [
      "Requirement already satisfied: pandas in c:\\users\\admin\\anaconda3\\envs\\env\\lib\\site-packages (2.3.0)Note: you may need to restart the kernel to use updated packages.\n",
      "\n",
      "Requirement already satisfied: numpy>=1.26.0 in c:\\users\\admin\\anaconda3\\envs\\env\\lib\\site-packages (from pandas) (2.3.1)\n",
      "Requirement already satisfied: python-dateutil>=2.8.2 in c:\\users\\admin\\anaconda3\\envs\\env\\lib\\site-packages (from pandas) (2.9.0.post0)\n",
      "Requirement already satisfied: pytz>=2020.1 in c:\\users\\admin\\anaconda3\\envs\\env\\lib\\site-packages (from pandas) (2025.2)\n",
      "Requirement already satisfied: tzdata>=2022.7 in c:\\users\\admin\\anaconda3\\envs\\env\\lib\\site-packages (from pandas) (2025.2)\n",
      "Requirement already satisfied: six>=1.5 in c:\\users\\admin\\anaconda3\\envs\\env\\lib\\site-packages (from python-dateutil>=2.8.2->pandas) (1.17.0)\n"
     ]
    }
   ],
   "source": [
    "pip install pandas"
   ]
  },
  {
   "cell_type": "code",
   "execution_count": 2,
   "id": "d2e77949-ee58-4040-9203-941c3e07531e",
   "metadata": {},
   "outputs": [],
   "source": [
    "import pandas as pd\n"
   ]
  },
  {
   "cell_type": "code",
   "execution_count": 3,
   "id": "8b58a2cf-5b6c-4772-8f73-ba454d6005ec",
   "metadata": {},
   "outputs": [],
   "source": [
    "df = pd.read_csv(\"products_data.csv\")"
   ]
  },
  {
   "cell_type": "code",
   "execution_count": 4,
   "id": "4b3cde1e-33f4-4fc5-b5f4-0cac3336b775",
   "metadata": {},
   "outputs": [
    {
     "name": "stdout",
     "output_type": "stream",
     "text": [
      "    Index                                   Name  \\\n",
      "0       1   Compact Printer Air Advanced Digital   \n",
      "1       2                                 Tablet   \n",
      "2       3                   Smart Blender Cooker   \n",
      "3       4           Advanced Router Rechargeable   \n",
      "4       5           Portable Mouse Monitor Phone   \n",
      "..    ...                                    ...   \n",
      "95     96                                 Router   \n",
      "96     97     Fast Thermostat Microphone Scooter   \n",
      "97     98  Eco Heater Toaster Stove Silent Sense   \n",
      "98     99               Clean Blender Scale Lite   \n",
      "99    100                             Smart Lamp   \n",
      "\n",
      "                                          Description  \\\n",
      "0       Situation organization these memory much off.   \n",
      "1         Discussion loss politics free one thousand.   \n",
      "2                                   No situation per.   \n",
      "3                     For force gas energy six laugh.   \n",
      "4   Feeling back religious however author room sci...   \n",
      "..                                                ...   \n",
      "95                   Investment everything story buy.   \n",
      "96                     Nature notice themselves news.   \n",
      "97                   Understand still or summer rule.   \n",
      "98                               Final art some push.   \n",
      "99                         However public major baby.   \n",
      "\n",
      "                          Brand                Category  Price Currency  \\\n",
      "0       Garner, Boyle and Flynn      Books & Stationery    265      USD   \n",
      "1                   Mueller Inc        Shoes & Footwear    502      USD   \n",
      "2    Lawson, Keller and Winters      Kitchen Appliances    227      USD   \n",
      "3            Gallagher and Sons      Kitchen Appliances    121      USD   \n",
      "4                     Irwin LLC          Kids' Clothing      1      USD   \n",
      "..                          ...                     ...    ...      ...   \n",
      "95                 Atkinson Inc     Laptops & Computers    375      USD   \n",
      "96                     Shea Ltd  Beauty & Personal Care    289      USD   \n",
      "97                     West Ltd       Cleaning Supplies    232      USD   \n",
      "98     Bell, Gamble and Barrett        Camping & Hiking    241      USD   \n",
      "99  Hebert, Hughes and Trujillo          Bedding & Bath     71      USD   \n",
      "\n",
      "    Stock            EAN        Color         Size   Availability  Internal ID  \n",
      "0     774  2091465262179  ForestGreen        Large      pre_order           56  \n",
      "1      81  5286196620740        Black      8x10 in       in_stock           29  \n",
      "2     726  1282898648918    SlateGray           XS       in_stock           70  \n",
      "3     896  3879177514583    PaleGreen            L   discontinued           31  \n",
      "4     925  9055773261265     SeaShell   100x200 mm   discontinued           10  \n",
      "..    ...            ...          ...          ...            ...          ...  \n",
      "95    703  3330396409604    Gainsboro      8x10 in  limited_stock           55  \n",
      "96    727  9265397743935        White  Extra Large      backorder           25  \n",
      "97    998  5505866454530      OldLace        Small  limited_stock           20  \n",
      "98    391  3893594435450   Aquamarine       5x7 in  limited_stock            5  \n",
      "99    518  8264263605712        Brown       Medium  limited_stock            3  \n",
      "\n",
      "[100 rows x 13 columns]\n"
     ]
    }
   ],
   "source": [
    "print(df)"
   ]
  },
  {
   "cell_type": "code",
   "execution_count": 5,
   "id": "b8ba8852-80aa-48d5-8960-f48126a9a35f",
   "metadata": {},
   "outputs": [],
   "source": [
    "df2 = pd.read_csv(\"customers_data.csv\")"
   ]
  },
  {
   "cell_type": "code",
   "execution_count": 6,
   "id": "b14bbd77-32c2-4039-9b3b-a1b3902432bd",
   "metadata": {},
   "outputs": [
    {
     "name": "stdout",
     "output_type": "stream",
     "text": [
      "    Index      Customer Id First Name Last Name  \\\n",
      "0       1  DD37Cf93aecA6Dc     Sheryl    Baxter   \n",
      "1       2  1Ef7b82A4CAAD10    Preston    Lozano   \n",
      "2       3  6F94879bDAfE5a6        Roy     Berry   \n",
      "3       4  5Cef8BFA16c5e3c      Linda     Olsen   \n",
      "4       5  053d585Ab6b3159     Joanna    Bender   \n",
      "..    ...              ...        ...       ...   \n",
      "95     96  cb8E23e48d22Eae       Karl     Greer   \n",
      "96     97  CeD220bdAaCfaDf       Lynn  Atkinson   \n",
      "97     98  28CDbC0dFe4b1Db       Fred    Guerra   \n",
      "98     99  c23d1D9EE8DEB0A     Yvonne    Farmer   \n",
      "99    100  2354a0E336A91A1   Clarence    Haynes   \n",
      "\n",
      "                            Company               City  \\\n",
      "0                   Rasmussen Group       East Leonard   \n",
      "1                       Vega-Gentry  East Jimmychester   \n",
      "2                     Murillo-Perry      Isabelborough   \n",
      "3   Dominguez, Mcmillan and Donovan         Bensonview   \n",
      "4          Martin, Lang and Andrade     West Priscilla   \n",
      "..                              ...                ...   \n",
      "95                        Carey LLC       East Richard   \n",
      "96            Ware, Burns and Oneal       New Bradview   \n",
      "97                    Schmitt-Jones         Ortegaland   \n",
      "98               Fitzgerald-Harrell    Lake Elijahview   \n",
      "99               Le, Nash and Cross          Judymouth   \n",
      "\n",
      "                       Country                 Phone 1  \\\n",
      "0                        Chile            229.077.5154   \n",
      "1                     Djibouti              5153435776   \n",
      "2          Antigua and Barbuda         +1-539-402-0259   \n",
      "3           Dominican Republic  001-808-617-6467x12895   \n",
      "4   Slovakia (Slovak Republic)  001-234-203-0635x76146   \n",
      "..                         ...                     ...   \n",
      "95                      Guyana     (188)169-1674x58692   \n",
      "96                   Sri Lanka         +1-846-706-2218   \n",
      "97             Solomon Islands    +1-753-067-8419x7170   \n",
      "98                       Aruba           (530)311-9786   \n",
      "99                    Honduras           (753)813-6941   \n",
      "\n",
      "                   Phone 2                           Email Subscription Date  \\\n",
      "0         397.884.0519x718        zunigavanessa@smith.info        2020-08-24   \n",
      "1         686-620-1820x944                 vmata@colon.com        2021-04-23   \n",
      "2      (496)978-3969x58947             beckycarr@hogan.com        2020-03-25   \n",
      "3          +1-813-324-8756     stanleyblackwell@benson.org        2020-06-02   \n",
      "4    001-199-446-3860x3486         colinalvarado@miles.net        2021-04-17   \n",
      "..                     ...                             ...               ...   \n",
      "95    001-841-293-3519x614                hhart@jensen.com        2022-01-30   \n",
      "96            605.413.3198               vkemp@ferrell.com        2021-07-10   \n",
      "97   +1-632-666-7507x92121                swagner@kane.org        2021-09-18   \n",
      "98  001-869-452-0943x12424  mccarthystephen@horn-green.biz        2021-08-11   \n",
      "99            783.639.1472          colleen91@faulkner.biz        2020-03-11   \n",
      "\n",
      "                              Website  \n",
      "0          http://www.stephenson.com/  \n",
      "1               http://www.hobbs.com/  \n",
      "2            http://www.lawrence.com/  \n",
      "3          http://www.good-lyons.com/  \n",
      "4         https://goodwin-ingram.com/  \n",
      "..                                ...  \n",
      "95            http://hayes-perez.com/  \n",
      "96         https://novak-allison.com/  \n",
      "97              https://www.ross.com/  \n",
      "98               http://watkins.info/  \n",
      "99  http://www.hatfield-saunders.net/  \n",
      "\n",
      "[100 rows x 12 columns]\n"
     ]
    }
   ],
   "source": [
    "print(df2)"
   ]
  },
  {
   "cell_type": "code",
   "execution_count": 7,
   "id": "88493f0f-5228-4f71-9259-2bfe860b72a1",
   "metadata": {},
   "outputs": [
    {
     "data": {
      "text/html": [
       "<div>\n",
       "<style scoped>\n",
       "    .dataframe tbody tr th:only-of-type {\n",
       "        vertical-align: middle;\n",
       "    }\n",
       "\n",
       "    .dataframe tbody tr th {\n",
       "        vertical-align: top;\n",
       "    }\n",
       "\n",
       "    .dataframe thead th {\n",
       "        text-align: right;\n",
       "    }\n",
       "</style>\n",
       "<table border=\"1\" class=\"dataframe\">\n",
       "  <thead>\n",
       "    <tr style=\"text-align: right;\">\n",
       "      <th></th>\n",
       "      <th>Index</th>\n",
       "      <th>Name</th>\n",
       "      <th>Description</th>\n",
       "      <th>Brand</th>\n",
       "      <th>Category</th>\n",
       "      <th>Price</th>\n",
       "      <th>Currency</th>\n",
       "      <th>Stock</th>\n",
       "      <th>EAN</th>\n",
       "      <th>Color</th>\n",
       "      <th>Size</th>\n",
       "      <th>Availability</th>\n",
       "      <th>Internal ID</th>\n",
       "    </tr>\n",
       "  </thead>\n",
       "  <tbody>\n",
       "    <tr>\n",
       "      <th>0</th>\n",
       "      <td>1</td>\n",
       "      <td>Compact Printer Air Advanced Digital</td>\n",
       "      <td>Situation organization these memory much off.</td>\n",
       "      <td>Garner, Boyle and Flynn</td>\n",
       "      <td>Books &amp; Stationery</td>\n",
       "      <td>265</td>\n",
       "      <td>USD</td>\n",
       "      <td>774</td>\n",
       "      <td>2091465262179</td>\n",
       "      <td>ForestGreen</td>\n",
       "      <td>Large</td>\n",
       "      <td>pre_order</td>\n",
       "      <td>56</td>\n",
       "    </tr>\n",
       "    <tr>\n",
       "      <th>1</th>\n",
       "      <td>2</td>\n",
       "      <td>Tablet</td>\n",
       "      <td>Discussion loss politics free one thousand.</td>\n",
       "      <td>Mueller Inc</td>\n",
       "      <td>Shoes &amp; Footwear</td>\n",
       "      <td>502</td>\n",
       "      <td>USD</td>\n",
       "      <td>81</td>\n",
       "      <td>5286196620740</td>\n",
       "      <td>Black</td>\n",
       "      <td>8x10 in</td>\n",
       "      <td>in_stock</td>\n",
       "      <td>29</td>\n",
       "    </tr>\n",
       "    <tr>\n",
       "      <th>2</th>\n",
       "      <td>3</td>\n",
       "      <td>Smart Blender Cooker</td>\n",
       "      <td>No situation per.</td>\n",
       "      <td>Lawson, Keller and Winters</td>\n",
       "      <td>Kitchen Appliances</td>\n",
       "      <td>227</td>\n",
       "      <td>USD</td>\n",
       "      <td>726</td>\n",
       "      <td>1282898648918</td>\n",
       "      <td>SlateGray</td>\n",
       "      <td>XS</td>\n",
       "      <td>in_stock</td>\n",
       "      <td>70</td>\n",
       "    </tr>\n",
       "    <tr>\n",
       "      <th>3</th>\n",
       "      <td>4</td>\n",
       "      <td>Advanced Router Rechargeable</td>\n",
       "      <td>For force gas energy six laugh.</td>\n",
       "      <td>Gallagher and Sons</td>\n",
       "      <td>Kitchen Appliances</td>\n",
       "      <td>121</td>\n",
       "      <td>USD</td>\n",
       "      <td>896</td>\n",
       "      <td>3879177514583</td>\n",
       "      <td>PaleGreen</td>\n",
       "      <td>L</td>\n",
       "      <td>discontinued</td>\n",
       "      <td>31</td>\n",
       "    </tr>\n",
       "    <tr>\n",
       "      <th>4</th>\n",
       "      <td>5</td>\n",
       "      <td>Portable Mouse Monitor Phone</td>\n",
       "      <td>Feeling back religious however author room sci...</td>\n",
       "      <td>Irwin LLC</td>\n",
       "      <td>Kids' Clothing</td>\n",
       "      <td>1</td>\n",
       "      <td>USD</td>\n",
       "      <td>925</td>\n",
       "      <td>9055773261265</td>\n",
       "      <td>SeaShell</td>\n",
       "      <td>100x200 mm</td>\n",
       "      <td>discontinued</td>\n",
       "      <td>10</td>\n",
       "    </tr>\n",
       "  </tbody>\n",
       "</table>\n",
       "</div>"
      ],
      "text/plain": [
       "   Index                                  Name  \\\n",
       "0      1  Compact Printer Air Advanced Digital   \n",
       "1      2                                Tablet   \n",
       "2      3                  Smart Blender Cooker   \n",
       "3      4          Advanced Router Rechargeable   \n",
       "4      5          Portable Mouse Monitor Phone   \n",
       "\n",
       "                                         Description  \\\n",
       "0      Situation organization these memory much off.   \n",
       "1        Discussion loss politics free one thousand.   \n",
       "2                                  No situation per.   \n",
       "3                    For force gas energy six laugh.   \n",
       "4  Feeling back religious however author room sci...   \n",
       "\n",
       "                        Brand            Category  Price Currency  Stock  \\\n",
       "0     Garner, Boyle and Flynn  Books & Stationery    265      USD    774   \n",
       "1                 Mueller Inc    Shoes & Footwear    502      USD     81   \n",
       "2  Lawson, Keller and Winters  Kitchen Appliances    227      USD    726   \n",
       "3          Gallagher and Sons  Kitchen Appliances    121      USD    896   \n",
       "4                   Irwin LLC      Kids' Clothing      1      USD    925   \n",
       "\n",
       "             EAN        Color        Size  Availability  Internal ID  \n",
       "0  2091465262179  ForestGreen       Large     pre_order           56  \n",
       "1  5286196620740        Black     8x10 in      in_stock           29  \n",
       "2  1282898648918    SlateGray          XS      in_stock           70  \n",
       "3  3879177514583    PaleGreen           L  discontinued           31  \n",
       "4  9055773261265     SeaShell  100x200 mm  discontinued           10  "
      ]
     },
     "execution_count": 7,
     "metadata": {},
     "output_type": "execute_result"
    }
   ],
   "source": [
    "df.head()"
   ]
  },
  {
   "cell_type": "code",
   "execution_count": 8,
   "id": "f06aaac3-cfd2-47e5-bef3-4efd7410017f",
   "metadata": {},
   "outputs": [
    {
     "data": {
      "text/html": [
       "<div>\n",
       "<style scoped>\n",
       "    .dataframe tbody tr th:only-of-type {\n",
       "        vertical-align: middle;\n",
       "    }\n",
       "\n",
       "    .dataframe tbody tr th {\n",
       "        vertical-align: top;\n",
       "    }\n",
       "\n",
       "    .dataframe thead th {\n",
       "        text-align: right;\n",
       "    }\n",
       "</style>\n",
       "<table border=\"1\" class=\"dataframe\">\n",
       "  <thead>\n",
       "    <tr style=\"text-align: right;\">\n",
       "      <th></th>\n",
       "      <th>Index</th>\n",
       "      <th>Customer Id</th>\n",
       "      <th>First Name</th>\n",
       "      <th>Last Name</th>\n",
       "      <th>Company</th>\n",
       "      <th>City</th>\n",
       "      <th>Country</th>\n",
       "      <th>Phone 1</th>\n",
       "      <th>Phone 2</th>\n",
       "      <th>Email</th>\n",
       "      <th>Subscription Date</th>\n",
       "      <th>Website</th>\n",
       "    </tr>\n",
       "  </thead>\n",
       "  <tbody>\n",
       "    <tr>\n",
       "      <th>0</th>\n",
       "      <td>1</td>\n",
       "      <td>DD37Cf93aecA6Dc</td>\n",
       "      <td>Sheryl</td>\n",
       "      <td>Baxter</td>\n",
       "      <td>Rasmussen Group</td>\n",
       "      <td>East Leonard</td>\n",
       "      <td>Chile</td>\n",
       "      <td>229.077.5154</td>\n",
       "      <td>397.884.0519x718</td>\n",
       "      <td>zunigavanessa@smith.info</td>\n",
       "      <td>2020-08-24</td>\n",
       "      <td>http://www.stephenson.com/</td>\n",
       "    </tr>\n",
       "    <tr>\n",
       "      <th>1</th>\n",
       "      <td>2</td>\n",
       "      <td>1Ef7b82A4CAAD10</td>\n",
       "      <td>Preston</td>\n",
       "      <td>Lozano</td>\n",
       "      <td>Vega-Gentry</td>\n",
       "      <td>East Jimmychester</td>\n",
       "      <td>Djibouti</td>\n",
       "      <td>5153435776</td>\n",
       "      <td>686-620-1820x944</td>\n",
       "      <td>vmata@colon.com</td>\n",
       "      <td>2021-04-23</td>\n",
       "      <td>http://www.hobbs.com/</td>\n",
       "    </tr>\n",
       "    <tr>\n",
       "      <th>2</th>\n",
       "      <td>3</td>\n",
       "      <td>6F94879bDAfE5a6</td>\n",
       "      <td>Roy</td>\n",
       "      <td>Berry</td>\n",
       "      <td>Murillo-Perry</td>\n",
       "      <td>Isabelborough</td>\n",
       "      <td>Antigua and Barbuda</td>\n",
       "      <td>+1-539-402-0259</td>\n",
       "      <td>(496)978-3969x58947</td>\n",
       "      <td>beckycarr@hogan.com</td>\n",
       "      <td>2020-03-25</td>\n",
       "      <td>http://www.lawrence.com/</td>\n",
       "    </tr>\n",
       "    <tr>\n",
       "      <th>3</th>\n",
       "      <td>4</td>\n",
       "      <td>5Cef8BFA16c5e3c</td>\n",
       "      <td>Linda</td>\n",
       "      <td>Olsen</td>\n",
       "      <td>Dominguez, Mcmillan and Donovan</td>\n",
       "      <td>Bensonview</td>\n",
       "      <td>Dominican Republic</td>\n",
       "      <td>001-808-617-6467x12895</td>\n",
       "      <td>+1-813-324-8756</td>\n",
       "      <td>stanleyblackwell@benson.org</td>\n",
       "      <td>2020-06-02</td>\n",
       "      <td>http://www.good-lyons.com/</td>\n",
       "    </tr>\n",
       "    <tr>\n",
       "      <th>4</th>\n",
       "      <td>5</td>\n",
       "      <td>053d585Ab6b3159</td>\n",
       "      <td>Joanna</td>\n",
       "      <td>Bender</td>\n",
       "      <td>Martin, Lang and Andrade</td>\n",
       "      <td>West Priscilla</td>\n",
       "      <td>Slovakia (Slovak Republic)</td>\n",
       "      <td>001-234-203-0635x76146</td>\n",
       "      <td>001-199-446-3860x3486</td>\n",
       "      <td>colinalvarado@miles.net</td>\n",
       "      <td>2021-04-17</td>\n",
       "      <td>https://goodwin-ingram.com/</td>\n",
       "    </tr>\n",
       "  </tbody>\n",
       "</table>\n",
       "</div>"
      ],
      "text/plain": [
       "   Index      Customer Id First Name Last Name  \\\n",
       "0      1  DD37Cf93aecA6Dc     Sheryl    Baxter   \n",
       "1      2  1Ef7b82A4CAAD10    Preston    Lozano   \n",
       "2      3  6F94879bDAfE5a6        Roy     Berry   \n",
       "3      4  5Cef8BFA16c5e3c      Linda     Olsen   \n",
       "4      5  053d585Ab6b3159     Joanna    Bender   \n",
       "\n",
       "                           Company               City  \\\n",
       "0                  Rasmussen Group       East Leonard   \n",
       "1                      Vega-Gentry  East Jimmychester   \n",
       "2                    Murillo-Perry      Isabelborough   \n",
       "3  Dominguez, Mcmillan and Donovan         Bensonview   \n",
       "4         Martin, Lang and Andrade     West Priscilla   \n",
       "\n",
       "                      Country                 Phone 1                Phone 2  \\\n",
       "0                       Chile            229.077.5154       397.884.0519x718   \n",
       "1                    Djibouti              5153435776       686-620-1820x944   \n",
       "2         Antigua and Barbuda         +1-539-402-0259    (496)978-3969x58947   \n",
       "3          Dominican Republic  001-808-617-6467x12895        +1-813-324-8756   \n",
       "4  Slovakia (Slovak Republic)  001-234-203-0635x76146  001-199-446-3860x3486   \n",
       "\n",
       "                         Email Subscription Date                      Website  \n",
       "0     zunigavanessa@smith.info        2020-08-24   http://www.stephenson.com/  \n",
       "1              vmata@colon.com        2021-04-23        http://www.hobbs.com/  \n",
       "2          beckycarr@hogan.com        2020-03-25     http://www.lawrence.com/  \n",
       "3  stanleyblackwell@benson.org        2020-06-02   http://www.good-lyons.com/  \n",
       "4      colinalvarado@miles.net        2021-04-17  https://goodwin-ingram.com/  "
      ]
     },
     "execution_count": 8,
     "metadata": {},
     "output_type": "execute_result"
    }
   ],
   "source": [
    "df2.head()"
   ]
  },
  {
   "cell_type": "code",
   "execution_count": 9,
   "id": "62da8aea-48a5-4f0e-a757-10725e1c1dc0",
   "metadata": {},
   "outputs": [
    {
     "name": "stdout",
     "output_type": "stream",
     "text": [
      "            Index      Price       Stock           EAN  Internal ID\n",
      "count  100.000000  100.00000  100.000000  1.000000e+02   100.000000\n",
      "mean    50.500000  451.19000  545.710000  4.876267e+12    49.340000\n",
      "std     29.011492  281.60911  266.716863  2.918084e+12    28.078253\n",
      "min      1.000000    1.00000   10.000000  5.246382e+08     3.000000\n",
      "25%     25.750000  230.75000  347.500000  2.062323e+12    25.000000\n",
      "50%     50.500000  407.50000  575.500000  4.875720e+12    48.000000\n",
      "75%     75.250000  679.00000  749.250000  7.676943e+12    74.500000\n",
      "max    100.000000  999.00000  998.000000  9.921752e+12    99.000000\n"
     ]
    }
   ],
   "source": [
    "# Summary statistics\n",
    "print(df.describe())"
   ]
  },
  {
   "cell_type": "code",
   "execution_count": 10,
   "id": "b118386e-d26d-4fff-ae11-00e3347bfdbb",
   "metadata": {},
   "outputs": [
    {
     "name": "stdout",
     "output_type": "stream",
     "text": [
      "<class 'pandas.core.frame.DataFrame'>\n",
      "RangeIndex: 100 entries, 0 to 99\n",
      "Data columns (total 13 columns):\n",
      " #   Column        Non-Null Count  Dtype \n",
      "---  ------        --------------  ----- \n",
      " 0   Index         100 non-null    int64 \n",
      " 1   Name          100 non-null    object\n",
      " 2   Description   100 non-null    object\n",
      " 3   Brand         100 non-null    object\n",
      " 4   Category      100 non-null    object\n",
      " 5   Price         100 non-null    int64 \n",
      " 6   Currency      100 non-null    object\n",
      " 7   Stock         100 non-null    int64 \n",
      " 8   EAN           100 non-null    int64 \n",
      " 9   Color         100 non-null    object\n",
      " 10  Size          100 non-null    object\n",
      " 11  Availability  100 non-null    object\n",
      " 12  Internal ID   100 non-null    int64 \n",
      "dtypes: int64(5), object(8)\n",
      "memory usage: 10.3+ KB\n",
      "None\n"
     ]
    }
   ],
   "source": [
    "# Data types and non-null counts\n",
    "print(df.info())"
   ]
  },
  {
   "cell_type": "code",
   "execution_count": 11,
   "id": "08587728-3aaa-40ba-8a81-892e4be7d5c2",
   "metadata": {},
   "outputs": [
    {
     "name": "stdout",
     "output_type": "stream",
     "text": [
      "Index(['Index', 'Name', 'Description', 'Brand', 'Category', 'Price',\n",
      "       'Currency', 'Stock', 'EAN', 'Color', 'Size', 'Availability',\n",
      "       'Internal ID'],\n",
      "      dtype='object')\n"
     ]
    }
   ],
   "source": [
    "# Show column names\n",
    "print(df.columns)"
   ]
  },
  {
   "cell_type": "code",
   "execution_count": 12,
   "id": "99646af4-dd75-4a38-9c75-d766c7516b72",
   "metadata": {},
   "outputs": [
    {
     "name": "stdout",
     "output_type": "stream",
     "text": [
      "Price:\n",
      "Mean: 451.19\n",
      "Median: 407.5\n",
      "Mode: [489 689 731 982]\n"
     ]
    }
   ],
   "source": [
    "# Mean, Median, Mode for Price\n",
    "print(\"Price:\")\n",
    "print(\"Mean:\", df['Price'].mean())\n",
    "print(\"Median:\", df['Price'].median())\n",
    "print(\"Mode:\", df['Price'].mode().values)"
   ]
  },
  {
   "cell_type": "code",
   "execution_count": 13,
   "id": "c3d281fb-7552-4cc2-a741-5447301f914e",
   "metadata": {},
   "outputs": [
    {
     "name": "stdout",
     "output_type": "stream",
     "text": [
      "\n",
      "Stock:\n",
      "Mean: 545.71\n",
      "Median: 575.5\n",
      "Mode: [623]\n"
     ]
    }
   ],
   "source": [
    "# Optional: Stock\n",
    "print(\"\\nStock:\")\n",
    "print(\"Mean:\", df['Stock'].mean())\n",
    "print(\"Median:\", df['Stock'].median())\n",
    "print(\"Mode:\", df['Stock'].mode().values)"
   ]
  },
  {
   "cell_type": "code",
   "execution_count": 14,
   "id": "4edb42d6-de7b-4bc8-aaa4-8e66c3ea4a1a",
   "metadata": {},
   "outputs": [],
   "source": [
    "# Find duplicates\n",
    "duplicates = df.duplicated()"
   ]
  },
  {
   "cell_type": "code",
   "execution_count": 15,
   "id": "b2e153a0-a9e1-41d9-b499-0e6485de74bd",
   "metadata": {},
   "outputs": [
    {
     "name": "stdout",
     "output_type": "stream",
     "text": [
      "0     False\n",
      "1     False\n",
      "2     False\n",
      "3     False\n",
      "4     False\n",
      "      ...  \n",
      "95    False\n",
      "96    False\n",
      "97    False\n",
      "98    False\n",
      "99    False\n",
      "Length: 100, dtype: bool\n"
     ]
    }
   ],
   "source": [
    "print(duplicates)"
   ]
  },
  {
   "cell_type": "code",
   "execution_count": 16,
   "id": "a44804fa-cf4d-4e40-b8fa-2fd1767d9600",
   "metadata": {},
   "outputs": [
    {
     "name": "stdout",
     "output_type": "stream",
     "text": [
      "    Index   Name  Description  Brand  Category  Price  Currency  Stock    EAN  \\\n",
      "0   False  False        False  False     False  False     False  False  False   \n",
      "1   False  False        False  False     False  False     False  False  False   \n",
      "2   False  False        False  False     False  False     False  False  False   \n",
      "3   False  False        False  False     False  False     False  False  False   \n",
      "4   False  False        False  False     False  False     False  False  False   \n",
      "..    ...    ...          ...    ...       ...    ...       ...    ...    ...   \n",
      "95  False  False        False  False     False  False     False  False  False   \n",
      "96  False  False        False  False     False  False     False  False  False   \n",
      "97  False  False        False  False     False  False     False  False  False   \n",
      "98  False  False        False  False     False  False     False  False  False   \n",
      "99  False  False        False  False     False  False     False  False  False   \n",
      "\n",
      "    Color   Size  Availability  Internal ID  \n",
      "0   False  False         False        False  \n",
      "1   False  False         False        False  \n",
      "2   False  False         False        False  \n",
      "3   False  False         False        False  \n",
      "4   False  False         False        False  \n",
      "..    ...    ...           ...          ...  \n",
      "95  False  False         False        False  \n",
      "96  False  False         False        False  \n",
      "97  False  False         False        False  \n",
      "98  False  False         False        False  \n",
      "99  False  False         False        False  \n",
      "\n",
      "[100 rows x 13 columns]\n"
     ]
    }
   ],
   "source": [
    "# Check for null values\n",
    "print(df.isnull())"
   ]
  },
  {
   "cell_type": "code",
   "execution_count": null,
   "id": "94b4c0aa-6143-44db-b621-13d201af921f",
   "metadata": {},
   "outputs": [],
   "source": []
  }
 ],
 "metadata": {
  "kernelspec": {
   "display_name": "Python [conda env:env]",
   "language": "python",
   "name": "conda-env-env-py"
  },
  "language_info": {
   "codemirror_mode": {
    "name": "ipython",
    "version": 3
   },
   "file_extension": ".py",
   "mimetype": "text/x-python",
   "name": "python",
   "nbconvert_exporter": "python",
   "pygments_lexer": "ipython3",
   "version": "3.13.5"
  }
 },
 "nbformat": 4,
 "nbformat_minor": 5
}
