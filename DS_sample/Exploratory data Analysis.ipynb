{
 "cells": [
  {
   "cell_type": "markdown",
   "id": "699b4042-7aa2-4101-bed2-9c68c48a4fe5",
   "metadata": {},
   "source": [
    "# Exploratory Data Analysis (EDA):"
   ]
  },
  {
   "cell_type": "markdown",
   "id": "19778825-7030-445c-bd6b-9376a88891a2",
   "metadata": {},
   "source": [
    "## What is Exploratory Data Analysis (EDA)?\n",
    "\n"
   ]
  },
  {
   "cell_type": "markdown",
   "id": "3e8167aa-4494-4075-a218-84507a9b70f1",
   "metadata": {},
   "source": [
    "Exploratory Data Analysis (EDA) is the process of examining, summarizing, and visualizing data to uncover patterns, trends, anomalies, relationships, or errors before applying any modeling or statistical techniques."
   ]
  },
  {
   "cell_type": "markdown",
   "id": "9f265b39-f2e2-4296-8462-31d58cc61891",
   "metadata": {},
   "source": [
    "## Key Objectives of EDA:"
   ]
  },
  {
   "cell_type": "markdown",
   "id": "ff9c536b-c914-4317-8a2b-bc34cc17b7f7",
   "metadata": {},
   "source": [
    "- Understand the structure of your data\n",
    "- Detect outliers or anomalies\n",
    "- Identify missing or incorrect values\n",
    "- Uncover relationships between variables\n",
    "- Generate hypotheses for further testing or modeling"
   ]
  },
  {
   "cell_type": "markdown",
   "id": "56013c44-bc86-4a82-a9e0-b021bce2faee",
   "metadata": {},
   "source": [
    "## Why Do We Need EDA?"
   ]
  },
  {
   "cell_type": "markdown",
   "id": "cbc9f05c-1594-4231-bf28-c99acab6e9ee",
   "metadata": {},
   "source": [
    "| Purpose                   | Explanation                                                                 |\n",
    "| ------------------------- | --------------------------------------------------------------------------- |\n",
    "| 🧭 Understand the Dataset | Know what each feature/column means, its data type, and distribution.       |\n",
    "| 🧼 Data Cleaning          | Identify missing values, duplicates, and inconsistencies.                   |\n",
    "| 📈 Feature Exploration    | Find which variables are most important or correlated.                      |\n",
    "| 🧪 Prepare for Modeling   | Ensure the data is clean and ready for machine learning/statistical models. |\n",
    "| 🔍 Discover Insights      | Spot trends and patterns that could inform business or research decisions.  |\n"
   ]
  },
  {
   "cell_type": "markdown",
   "id": "9ccb3d51-be81-4a9b-8ee9-94aedd9b160b",
   "metadata": {},
   "source": [
    "## Typical EDA Techniques:"
   ]
  },
  {
   "cell_type": "markdown",
   "id": "c6e9298a-227a-46a8-9476-4b848547b884",
   "metadata": {},
   "source": [
    "| Method                | Tool / Plot Type                    |\n",
    "| --------------------- | ----------------------------------- |\n",
    "| Summary Stats         | `df.describe()`, `df.info()`        |\n",
    "| Missing Value Check   | Heatmaps, `df.isnull()`             |\n",
    "| Distribution Analysis | Histograms, KDE plots               |\n",
    "| Relationship Analysis | Scatter plots, correlation heatmaps |\n",
    "| Categorical Analysis  | Bar plots, count plots              |\n",
    "| Time-based Analysis   | Line charts, time series plots      |\n"
   ]
  },
  {
   "cell_type": "markdown",
   "id": "819455e0-d316-493a-9645-3d8b78b33ccf",
   "metadata": {},
   "source": [
    "# Step-by-Step EDA Goals:"
   ]
  },
  {
   "cell_type": "code",
   "execution_count": 3,
   "id": "453b85e5-e507-4681-99bf-22d79c36ae83",
   "metadata": {},
   "outputs": [],
   "source": [
    "import pandas as pd\n",
    "import numpy as np\n",
    "import matplotlib.pyplot as plt\n",
    "import seaborn as sns"
   ]
  },
  {
   "cell_type": "code",
   "execution_count": 4,
   "id": "caf7c7d2-b0c0-4cf7-9af6-3bccb8ff944f",
   "metadata": {},
   "outputs": [
    {
     "data": {
      "text/html": [
       "<div>\n",
       "<style scoped>\n",
       "    .dataframe tbody tr th:only-of-type {\n",
       "        vertical-align: middle;\n",
       "    }\n",
       "\n",
       "    .dataframe tbody tr th {\n",
       "        vertical-align: top;\n",
       "    }\n",
       "\n",
       "    .dataframe thead th {\n",
       "        text-align: right;\n",
       "    }\n",
       "</style>\n",
       "<table border=\"1\" class=\"dataframe\">\n",
       "  <thead>\n",
       "    <tr style=\"text-align: right;\">\n",
       "      <th></th>\n",
       "      <th>Index</th>\n",
       "      <th>Customer Id</th>\n",
       "      <th>First Name</th>\n",
       "      <th>Last Name</th>\n",
       "      <th>Company</th>\n",
       "      <th>City</th>\n",
       "      <th>Country</th>\n",
       "      <th>Phone 1</th>\n",
       "      <th>Phone 2</th>\n",
       "      <th>Email</th>\n",
       "      <th>Subscription Date</th>\n",
       "      <th>Website</th>\n",
       "    </tr>\n",
       "  </thead>\n",
       "  <tbody>\n",
       "    <tr>\n",
       "      <th>0</th>\n",
       "      <td>1</td>\n",
       "      <td>DD37Cf93aecA6Dc</td>\n",
       "      <td>Sheryl</td>\n",
       "      <td>Baxter</td>\n",
       "      <td>Rasmussen Group</td>\n",
       "      <td>East Leonard</td>\n",
       "      <td>Chile</td>\n",
       "      <td>229.077.5154</td>\n",
       "      <td>397.884.0519x718</td>\n",
       "      <td>zunigavanessa@smith.info</td>\n",
       "      <td>2020-08-24</td>\n",
       "      <td>http://www.stephenson.com/</td>\n",
       "    </tr>\n",
       "    <tr>\n",
       "      <th>1</th>\n",
       "      <td>2</td>\n",
       "      <td>1Ef7b82A4CAAD10</td>\n",
       "      <td>Preston</td>\n",
       "      <td>Lozano</td>\n",
       "      <td>Vega-Gentry</td>\n",
       "      <td>East Jimmychester</td>\n",
       "      <td>Djibouti</td>\n",
       "      <td>5153435776</td>\n",
       "      <td>686-620-1820x944</td>\n",
       "      <td>vmata@colon.com</td>\n",
       "      <td>2021-04-23</td>\n",
       "      <td>http://www.hobbs.com/</td>\n",
       "    </tr>\n",
       "    <tr>\n",
       "      <th>2</th>\n",
       "      <td>3</td>\n",
       "      <td>6F94879bDAfE5a6</td>\n",
       "      <td>Roy</td>\n",
       "      <td>Berry</td>\n",
       "      <td>Murillo-Perry</td>\n",
       "      <td>Isabelborough</td>\n",
       "      <td>Antigua and Barbuda</td>\n",
       "      <td>+1-539-402-0259</td>\n",
       "      <td>(496)978-3969x58947</td>\n",
       "      <td>beckycarr@hogan.com</td>\n",
       "      <td>2020-03-25</td>\n",
       "      <td>http://www.lawrence.com/</td>\n",
       "    </tr>\n",
       "    <tr>\n",
       "      <th>3</th>\n",
       "      <td>4</td>\n",
       "      <td>5Cef8BFA16c5e3c</td>\n",
       "      <td>Linda</td>\n",
       "      <td>Olsen</td>\n",
       "      <td>Dominguez, Mcmillan and Donovan</td>\n",
       "      <td>Bensonview</td>\n",
       "      <td>Dominican Republic</td>\n",
       "      <td>001-808-617-6467x12895</td>\n",
       "      <td>+1-813-324-8756</td>\n",
       "      <td>stanleyblackwell@benson.org</td>\n",
       "      <td>2020-06-02</td>\n",
       "      <td>http://www.good-lyons.com/</td>\n",
       "    </tr>\n",
       "    <tr>\n",
       "      <th>4</th>\n",
       "      <td>5</td>\n",
       "      <td>053d585Ab6b3159</td>\n",
       "      <td>Joanna</td>\n",
       "      <td>Bender</td>\n",
       "      <td>Martin, Lang and Andrade</td>\n",
       "      <td>West Priscilla</td>\n",
       "      <td>Slovakia (Slovak Republic)</td>\n",
       "      <td>001-234-203-0635x76146</td>\n",
       "      <td>001-199-446-3860x3486</td>\n",
       "      <td>colinalvarado@miles.net</td>\n",
       "      <td>2021-04-17</td>\n",
       "      <td>https://goodwin-ingram.com/</td>\n",
       "    </tr>\n",
       "  </tbody>\n",
       "</table>\n",
       "</div>"
      ],
      "text/plain": [
       "   Index      Customer Id First Name Last Name  \\\n",
       "0      1  DD37Cf93aecA6Dc     Sheryl    Baxter   \n",
       "1      2  1Ef7b82A4CAAD10    Preston    Lozano   \n",
       "2      3  6F94879bDAfE5a6        Roy     Berry   \n",
       "3      4  5Cef8BFA16c5e3c      Linda     Olsen   \n",
       "4      5  053d585Ab6b3159     Joanna    Bender   \n",
       "\n",
       "                           Company               City  \\\n",
       "0                  Rasmussen Group       East Leonard   \n",
       "1                      Vega-Gentry  East Jimmychester   \n",
       "2                    Murillo-Perry      Isabelborough   \n",
       "3  Dominguez, Mcmillan and Donovan         Bensonview   \n",
       "4         Martin, Lang and Andrade     West Priscilla   \n",
       "\n",
       "                      Country                 Phone 1                Phone 2  \\\n",
       "0                       Chile            229.077.5154       397.884.0519x718   \n",
       "1                    Djibouti              5153435776       686-620-1820x944   \n",
       "2         Antigua and Barbuda         +1-539-402-0259    (496)978-3969x58947   \n",
       "3          Dominican Republic  001-808-617-6467x12895        +1-813-324-8756   \n",
       "4  Slovakia (Slovak Republic)  001-234-203-0635x76146  001-199-446-3860x3486   \n",
       "\n",
       "                         Email Subscription Date                      Website  \n",
       "0     zunigavanessa@smith.info        2020-08-24   http://www.stephenson.com/  \n",
       "1              vmata@colon.com        2021-04-23        http://www.hobbs.com/  \n",
       "2          beckycarr@hogan.com        2020-03-25     http://www.lawrence.com/  \n",
       "3  stanleyblackwell@benson.org        2020-06-02   http://www.good-lyons.com/  \n",
       "4      colinalvarado@miles.net        2021-04-17  https://goodwin-ingram.com/  "
      ]
     },
     "execution_count": 4,
     "metadata": {},
     "output_type": "execute_result"
    }
   ],
   "source": [
    "df = pd.read_csv(\"customers_data.csv\")\n",
    "df.head()"
   ]
  },
  {
   "cell_type": "code",
   "execution_count": 5,
   "id": "e7f81339-f6d1-4519-b72b-b936cf3e89c5",
   "metadata": {},
   "outputs": [
    {
     "name": "stdout",
     "output_type": "stream",
     "text": [
      "<class 'pandas.core.frame.DataFrame'>\n",
      "RangeIndex: 100 entries, 0 to 99\n",
      "Data columns (total 12 columns):\n",
      " #   Column             Non-Null Count  Dtype \n",
      "---  ------             --------------  ----- \n",
      " 0   Index              100 non-null    int64 \n",
      " 1   Customer Id        100 non-null    object\n",
      " 2   First Name         100 non-null    object\n",
      " 3   Last Name          100 non-null    object\n",
      " 4   Company            100 non-null    object\n",
      " 5   City               100 non-null    object\n",
      " 6   Country            100 non-null    object\n",
      " 7   Phone 1            100 non-null    object\n",
      " 8   Phone 2            100 non-null    object\n",
      " 9   Email              100 non-null    object\n",
      " 10  Subscription Date  100 non-null    object\n",
      " 11  Website            100 non-null    object\n",
      "dtypes: int64(1), object(11)\n",
      "memory usage: 9.5+ KB\n"
     ]
    },
    {
     "data": {
      "text/html": [
       "<div>\n",
       "<style scoped>\n",
       "    .dataframe tbody tr th:only-of-type {\n",
       "        vertical-align: middle;\n",
       "    }\n",
       "\n",
       "    .dataframe tbody tr th {\n",
       "        vertical-align: top;\n",
       "    }\n",
       "\n",
       "    .dataframe thead th {\n",
       "        text-align: right;\n",
       "    }\n",
       "</style>\n",
       "<table border=\"1\" class=\"dataframe\">\n",
       "  <thead>\n",
       "    <tr style=\"text-align: right;\">\n",
       "      <th></th>\n",
       "      <th>Index</th>\n",
       "      <th>Customer Id</th>\n",
       "      <th>First Name</th>\n",
       "      <th>Last Name</th>\n",
       "      <th>Company</th>\n",
       "      <th>City</th>\n",
       "      <th>Country</th>\n",
       "      <th>Phone 1</th>\n",
       "      <th>Phone 2</th>\n",
       "      <th>Email</th>\n",
       "      <th>Subscription Date</th>\n",
       "      <th>Website</th>\n",
       "    </tr>\n",
       "  </thead>\n",
       "  <tbody>\n",
       "    <tr>\n",
       "      <th>count</th>\n",
       "      <td>100.000000</td>\n",
       "      <td>100</td>\n",
       "      <td>100</td>\n",
       "      <td>100</td>\n",
       "      <td>100</td>\n",
       "      <td>100</td>\n",
       "      <td>100</td>\n",
       "      <td>100</td>\n",
       "      <td>100</td>\n",
       "      <td>100</td>\n",
       "      <td>100</td>\n",
       "      <td>100</td>\n",
       "    </tr>\n",
       "    <tr>\n",
       "      <th>unique</th>\n",
       "      <td>NaN</td>\n",
       "      <td>100</td>\n",
       "      <td>93</td>\n",
       "      <td>97</td>\n",
       "      <td>99</td>\n",
       "      <td>100</td>\n",
       "      <td>85</td>\n",
       "      <td>100</td>\n",
       "      <td>100</td>\n",
       "      <td>100</td>\n",
       "      <td>96</td>\n",
       "      <td>100</td>\n",
       "    </tr>\n",
       "    <tr>\n",
       "      <th>top</th>\n",
       "      <td>NaN</td>\n",
       "      <td>DD37Cf93aecA6Dc</td>\n",
       "      <td>Sheryl</td>\n",
       "      <td>Foley</td>\n",
       "      <td>Simon LLC</td>\n",
       "      <td>East Leonard</td>\n",
       "      <td>Solomon Islands</td>\n",
       "      <td>229.077.5154</td>\n",
       "      <td>397.884.0519x718</td>\n",
       "      <td>zunigavanessa@smith.info</td>\n",
       "      <td>2021-04-23</td>\n",
       "      <td>http://www.stephenson.com/</td>\n",
       "    </tr>\n",
       "    <tr>\n",
       "      <th>freq</th>\n",
       "      <td>NaN</td>\n",
       "      <td>1</td>\n",
       "      <td>2</td>\n",
       "      <td>2</td>\n",
       "      <td>2</td>\n",
       "      <td>1</td>\n",
       "      <td>4</td>\n",
       "      <td>1</td>\n",
       "      <td>1</td>\n",
       "      <td>1</td>\n",
       "      <td>2</td>\n",
       "      <td>1</td>\n",
       "    </tr>\n",
       "    <tr>\n",
       "      <th>mean</th>\n",
       "      <td>50.500000</td>\n",
       "      <td>NaN</td>\n",
       "      <td>NaN</td>\n",
       "      <td>NaN</td>\n",
       "      <td>NaN</td>\n",
       "      <td>NaN</td>\n",
       "      <td>NaN</td>\n",
       "      <td>NaN</td>\n",
       "      <td>NaN</td>\n",
       "      <td>NaN</td>\n",
       "      <td>NaN</td>\n",
       "      <td>NaN</td>\n",
       "    </tr>\n",
       "    <tr>\n",
       "      <th>std</th>\n",
       "      <td>29.011492</td>\n",
       "      <td>NaN</td>\n",
       "      <td>NaN</td>\n",
       "      <td>NaN</td>\n",
       "      <td>NaN</td>\n",
       "      <td>NaN</td>\n",
       "      <td>NaN</td>\n",
       "      <td>NaN</td>\n",
       "      <td>NaN</td>\n",
       "      <td>NaN</td>\n",
       "      <td>NaN</td>\n",
       "      <td>NaN</td>\n",
       "    </tr>\n",
       "    <tr>\n",
       "      <th>min</th>\n",
       "      <td>1.000000</td>\n",
       "      <td>NaN</td>\n",
       "      <td>NaN</td>\n",
       "      <td>NaN</td>\n",
       "      <td>NaN</td>\n",
       "      <td>NaN</td>\n",
       "      <td>NaN</td>\n",
       "      <td>NaN</td>\n",
       "      <td>NaN</td>\n",
       "      <td>NaN</td>\n",
       "      <td>NaN</td>\n",
       "      <td>NaN</td>\n",
       "    </tr>\n",
       "    <tr>\n",
       "      <th>25%</th>\n",
       "      <td>25.750000</td>\n",
       "      <td>NaN</td>\n",
       "      <td>NaN</td>\n",
       "      <td>NaN</td>\n",
       "      <td>NaN</td>\n",
       "      <td>NaN</td>\n",
       "      <td>NaN</td>\n",
       "      <td>NaN</td>\n",
       "      <td>NaN</td>\n",
       "      <td>NaN</td>\n",
       "      <td>NaN</td>\n",
       "      <td>NaN</td>\n",
       "    </tr>\n",
       "    <tr>\n",
       "      <th>50%</th>\n",
       "      <td>50.500000</td>\n",
       "      <td>NaN</td>\n",
       "      <td>NaN</td>\n",
       "      <td>NaN</td>\n",
       "      <td>NaN</td>\n",
       "      <td>NaN</td>\n",
       "      <td>NaN</td>\n",
       "      <td>NaN</td>\n",
       "      <td>NaN</td>\n",
       "      <td>NaN</td>\n",
       "      <td>NaN</td>\n",
       "      <td>NaN</td>\n",
       "    </tr>\n",
       "    <tr>\n",
       "      <th>75%</th>\n",
       "      <td>75.250000</td>\n",
       "      <td>NaN</td>\n",
       "      <td>NaN</td>\n",
       "      <td>NaN</td>\n",
       "      <td>NaN</td>\n",
       "      <td>NaN</td>\n",
       "      <td>NaN</td>\n",
       "      <td>NaN</td>\n",
       "      <td>NaN</td>\n",
       "      <td>NaN</td>\n",
       "      <td>NaN</td>\n",
       "      <td>NaN</td>\n",
       "    </tr>\n",
       "    <tr>\n",
       "      <th>max</th>\n",
       "      <td>100.000000</td>\n",
       "      <td>NaN</td>\n",
       "      <td>NaN</td>\n",
       "      <td>NaN</td>\n",
       "      <td>NaN</td>\n",
       "      <td>NaN</td>\n",
       "      <td>NaN</td>\n",
       "      <td>NaN</td>\n",
       "      <td>NaN</td>\n",
       "      <td>NaN</td>\n",
       "      <td>NaN</td>\n",
       "      <td>NaN</td>\n",
       "    </tr>\n",
       "  </tbody>\n",
       "</table>\n",
       "</div>"
      ],
      "text/plain": [
       "             Index      Customer Id First Name Last Name    Company  \\\n",
       "count   100.000000              100        100       100        100   \n",
       "unique         NaN              100         93        97         99   \n",
       "top            NaN  DD37Cf93aecA6Dc     Sheryl     Foley  Simon LLC   \n",
       "freq           NaN                1          2         2          2   \n",
       "mean     50.500000              NaN        NaN       NaN        NaN   \n",
       "std      29.011492              NaN        NaN       NaN        NaN   \n",
       "min       1.000000              NaN        NaN       NaN        NaN   \n",
       "25%      25.750000              NaN        NaN       NaN        NaN   \n",
       "50%      50.500000              NaN        NaN       NaN        NaN   \n",
       "75%      75.250000              NaN        NaN       NaN        NaN   \n",
       "max     100.000000              NaN        NaN       NaN        NaN   \n",
       "\n",
       "                City          Country       Phone 1           Phone 2  \\\n",
       "count            100              100           100               100   \n",
       "unique           100               85           100               100   \n",
       "top     East Leonard  Solomon Islands  229.077.5154  397.884.0519x718   \n",
       "freq               1                4             1                 1   \n",
       "mean             NaN              NaN           NaN               NaN   \n",
       "std              NaN              NaN           NaN               NaN   \n",
       "min              NaN              NaN           NaN               NaN   \n",
       "25%              NaN              NaN           NaN               NaN   \n",
       "50%              NaN              NaN           NaN               NaN   \n",
       "75%              NaN              NaN           NaN               NaN   \n",
       "max              NaN              NaN           NaN               NaN   \n",
       "\n",
       "                           Email Subscription Date                     Website  \n",
       "count                        100               100                         100  \n",
       "unique                       100                96                         100  \n",
       "top     zunigavanessa@smith.info        2021-04-23  http://www.stephenson.com/  \n",
       "freq                           1                 2                           1  \n",
       "mean                         NaN               NaN                         NaN  \n",
       "std                          NaN               NaN                         NaN  \n",
       "min                          NaN               NaN                         NaN  \n",
       "25%                          NaN               NaN                         NaN  \n",
       "50%                          NaN               NaN                         NaN  \n",
       "75%                          NaN               NaN                         NaN  \n",
       "max                          NaN               NaN                         NaN  "
      ]
     },
     "execution_count": 5,
     "metadata": {},
     "output_type": "execute_result"
    }
   ],
   "source": [
    "# Understand the Dataset\n",
    "df.info()\n",
    "df.describe(include='all')\n"
   ]
  },
  {
   "cell_type": "markdown",
   "id": "b296463f-3c3f-46ad-8109-05364ff4d1ad",
   "metadata": {},
   "source": [
    "# Find Missing or Incorrect Data"
   ]
  },
  {
   "cell_type": "code",
   "execution_count": 6,
   "id": "f2e206dd-8a67-459f-b193-0e03d86b908c",
   "metadata": {},
   "outputs": [
    {
     "data": {
      "text/plain": [
       "Index                0\n",
       "Customer Id          0\n",
       "First Name           0\n",
       "Last Name            0\n",
       "Company              0\n",
       "City                 0\n",
       "Country              0\n",
       "Phone 1              0\n",
       "Phone 2              0\n",
       "Email                0\n",
       "Subscription Date    0\n",
       "Website              0\n",
       "dtype: int64"
      ]
     },
     "execution_count": 6,
     "metadata": {},
     "output_type": "execute_result"
    }
   ],
   "source": [
    "df.isnull().sum()\n"
   ]
  },
  {
   "cell_type": "code",
   "execution_count": 7,
   "id": "9e0d824c-73f7-43f5-b5c3-dfe5fde98a11",
   "metadata": {},
   "outputs": [
    {
     "data": {
      "text/plain": [
       "<Axes: >"
      ]
     },
     "execution_count": 7,
     "metadata": {},
     "output_type": "execute_result"
    },
    {
     "data": {
      "image/png": "[encoded data removed]",
      "text/plain": [
       "<Figure size 640x480 with 1 Axes>"
      ]
     },
     "metadata": {},
     "output_type": "display_data"
    }
   ],
   "source": [
    "# Use a heatmap to visualize:\n",
    "sns.heatmap(df.isnull(), cbar=False, cmap='magma')"
   ]
  },
  {
   "cell_type": "markdown",
   "id": "993b763f-0419-4da9-895b-665bdb700769",
   "metadata": {},
   "source": [
    "# Customer Growth Over Time"
   ]
  },
  {
   "cell_type": "markdown",
   "id": "89308010-106b-46dd-bb66-a702977b59cb",
   "metadata": {},
   "source": [
    "- Problem: When are people subscribing the most?\n",
    "  \n",
    "- Solution:\n",
    "Convert the subscription date to a monthly format and plot:"
   ]
  },
  {
   "cell_type": "code",
   "execution_count": 8,
   "id": "de98769b-34b6-45e9-8fd5-fd795e280378",
   "metadata": {},
   "outputs": [
    {
     "data": {
      "text/plain": [
       "<Axes: xlabel='Month', ylabel='Subscriptions'>"
      ]
     },
     "execution_count": 8,
     "metadata": {},
     "output_type": "execute_result"
    },
    {
     "data": {
      "image/png": "[encoded data removed]",
      "text/plain": [
       "<Figure size 640x480 with 1 Axes>"
      ]
     },
     "metadata": {},
     "output_type": "display_data"
    }
   ],
   "source": [
    "df['Subscription Date'] = pd.to_datetime(df['Subscription Date'])\n",
    "df['Month'] = df['Subscription Date'].dt.to_period('M').astype(str)\n",
    "\n",
    "monthly = df.groupby('Month').size().reset_index(name='Subscriptions')\n",
    "sns.lineplot(data=monthly, x='Month', y='Subscriptions', marker='o')\n"
   ]
  },
  {
   "cell_type": "markdown",
   "id": "63e48e2d-fc0f-4d12-b40c-62d50d96a606",
   "metadata": {},
   "source": [
    "# Geographical Distribution"
   ]
  },
  {
   "cell_type": "markdown",
   "id": "bbdcec7a-82d2-431b-85d5-224d0d68e02d",
   "metadata": {},
   "source": [
    "## Problem: Which countries or cities have the most customers?\n"
   ]
  },
  {
   "cell_type": "code",
   "execution_count": 9,
   "id": "1edffb2b-8b0a-4185-b42b-4b4a12f67a21",
   "metadata": {},
   "outputs": [
    {
     "data": {
      "text/plain": [
       "<Axes: xlabel='Country'>"
      ]
     },
     "execution_count": 9,
     "metadata": {},
     "output_type": "execute_result"
    },
    {
     "data": {
      "image/png": "[encoded data removed]",
      "text/plain": [
       "<Figure size 640x480 with 1 Axes>"
      ]
     },
     "metadata": {},
     "output_type": "display_data"
    }
   ],
   "source": [
    "top_countries = df['Country'].value_counts().nlargest(5)\n",
    "sns.barplot(x=top_countries.index, y=top_countries.values)\n"
   ]
  },
  {
   "cell_type": "markdown",
   "id": "5cea0379-3011-49e0-a4c7-aa8192dfc6ed",
   "metadata": {},
   "source": [
    "# Detect Duplicates or Invalid Data"
   ]
  },
  {
   "cell_type": "markdown",
   "id": "3dce2aa8-1925-4886-8570-472f7c8002d6",
   "metadata": {},
   "source": [
    "## Problem: Are there duplicate records or invalid emails?\n"
   ]
  },
  {
   "cell_type": "code",
   "execution_count": 10,
   "id": "c89ea07d-2bfb-463e-b4d1-48e1eb2f50a5",
   "metadata": {},
   "outputs": [
    {
     "data": {
      "text/html": [
       "<div>\n",
       "<style scoped>\n",
       "    .dataframe tbody tr th:only-of-type {\n",
       "        vertical-align: middle;\n",
       "    }\n",
       "\n",
       "    .dataframe tbody tr th {\n",
       "        vertical-align: top;\n",
       "    }\n",
       "\n",
       "    .dataframe thead th {\n",
       "        text-align: right;\n",
       "    }\n",
       "</style>\n",
       "<table border=\"1\" class=\"dataframe\">\n",
       "  <thead>\n",
       "    <tr style=\"text-align: right;\">\n",
       "      <th></th>\n",
       "      <th>Index</th>\n",
       "      <th>Customer Id</th>\n",
       "      <th>First Name</th>\n",
       "      <th>Last Name</th>\n",
       "      <th>Company</th>\n",
       "      <th>City</th>\n",
       "      <th>Country</th>\n",
       "      <th>Phone 1</th>\n",
       "      <th>Phone 2</th>\n",
       "      <th>Email</th>\n",
       "      <th>Subscription Date</th>\n",
       "      <th>Website</th>\n",
       "      <th>Month</th>\n",
       "    </tr>\n",
       "  </thead>\n",
       "  <tbody>\n",
       "  </tbody>\n",
       "</table>\n",
       "</div>"
      ],
      "text/plain": [
       "Empty DataFrame\n",
       "Columns: [Index, Customer Id, First Name, Last Name, Company, City, Country, Phone 1, Phone 2, Email, Subscription Date, Website, Month]\n",
       "Index: []"
      ]
     },
     "execution_count": 10,
     "metadata": {},
     "output_type": "execute_result"
    }
   ],
   "source": [
    "df.duplicated().sum()\n",
    "df[~df['Email'].str.contains('@')]\n"
   ]
  },
  {
   "cell_type": "markdown",
   "id": "1e2eb57d-a4f6-40b4-98e5-bb918c1dd7b5",
   "metadata": {},
   "source": [
    "# Discover Relationships"
   ]
  },
  {
   "cell_type": "markdown",
   "id": "101c537c-498a-41c1-bdd0-003a8dab8d62",
   "metadata": {},
   "source": [
    "## Problem: Does one company dominate the customer base?\n"
   ]
  },
  {
   "cell_type": "code",
   "execution_count": 11,
   "id": "5019fc78-5dac-4e6a-ac81-7ab10f170b22",
   "metadata": {},
   "outputs": [
    {
     "data": {
      "text/plain": [
       "<Axes: ylabel='Company'>"
      ]
     },
     "execution_count": 11,
     "metadata": {},
     "output_type": "execute_result"
    },
    {
     "data": {
      "image/png": "[encoded data removed]",
      "text/plain": [
       "<Figure size 640x480 with 1 Axes>"
      ]
     },
     "metadata": {},
     "output_type": "display_data"
    }
   ],
   "source": [
    "top_companies = df['Company'].value_counts().head(10)\n",
    "sns.barplot(x=top_companies.values, y=top_companies.index)\n"
   ]
  },
  {
   "cell_type": "code",
   "execution_count": null,
   "id": "e3ba3ca6-53df-4967-ab48-130c0449c280",
   "metadata": {},
   "outputs": [],
   "source": []
  }
 ],
 "metadata": {
  "kernelspec": {
   "display_name": "Python [conda env:env]",
   "language": "python",
   "name": "conda-env-env-py"
  },
  "language_info": {
   "codemirror_mode": {
    "name": "ipython",
    "version": 3
   },
   "file_extension": ".py",
   "mimetype": "text/x-python",
   "name": "python",
   "nbconvert_exporter": "python",
   "pygments_lexer": "ipython3",
   "version": "3.13.5"
  }
 },
 "nbformat": 4,
 "nbformat_minor": 5
}
